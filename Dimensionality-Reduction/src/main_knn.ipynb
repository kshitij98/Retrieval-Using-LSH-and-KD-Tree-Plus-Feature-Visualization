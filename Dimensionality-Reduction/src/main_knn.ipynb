{
 "cells": [
  {
   "cell_type": "code",
   "execution_count": null,
   "metadata": {
    "slideshow": {
     "slide_type": "notes"
    }
   },
   "outputs": [],
   "source": [
    "#/scratch/mohsin/final_features ~~~ /shared1/shyamgopal\n",
    "#/scratch/mohsin/final_features_pca ~~~ mohsin@ada"
   ]
  },
  {
   "cell_type": "code",
   "execution_count": null,
   "metadata": {},
   "outputs": [],
   "source": [
    "import random\n",
    "import numpy as np                                              \n",
    "                                                            \n",
    "import sys\n",
    "#print(sys.path)  \n",
    "#sys.path=sys.path[:1]+sys.path[2:]\n",
    "#print(sys.path)   \n",
    "import matplotlib.pyplot as plt                                         \n",
    "#matplotlit.use('Agg')                                                  \n",
    "import cv2                      \n",
    "import time                                                             \n",
    "                       \n",
    "                                               \n",
    "import os                                                               \n",
    "import test_knn\n",
    "from test_knn import my_func, compute_distances, get_knn\n",
    "\n",
    "# This is a bit of magic to make matplotlib figures appear inline in the notebook\n",
    "# rather than in a new window.\n",
    "%matplotlib inline\n",
    "plt.rcParams['figure.figsize'] = (200.0, 160.0) # set default size of plots\n",
    "plt.rcParams['image.interpolation'] = 'nearest'\n",
    "plt.rcParams['image.cmap'] = 'gray'\n",
    "\n",
    "# Some more magic so that the notebook will reload external python modules;\n",
    "# see http://stackoverflow.com/questions/1907993/autoreload-of-modules-in-ipython\n",
    "%load_ext autoreload\n",
    "%autoreload 2"
   ]
  },
  {
   "cell_type": "code",
   "execution_count": null,
   "metadata": {},
   "outputs": [],
   "source": []
  },
  {
   "cell_type": "code",
   "execution_count": null,
   "metadata": {},
   "outputs": [],
   "source": [
    "x, x2, names_dict = my_func()\n",
    "import pickle\n",
    "#data_structure={'x':x,'x2':x2,'names_dict':names_dict}\n"
   ]
  },
  {
   "cell_type": "code",
   "execution_count": null,
   "metadata": {},
   "outputs": [],
   "source": [
    "import random\n",
    "ids = np.arange(10000)\n",
    "random.shuffle(ids)\n",
    "ids = ids[:100]"
   ]
  },
  {
   "cell_type": "code",
   "execution_count": null,
   "metadata": {},
   "outputs": [],
   "source": [
    "ids = np.array([1577, 1954, 4492, 2476, 6888, 3337, 1765, 1209, 2695, 5865, 3222,\n",
    "       5126,  110, 8509, 2356, 8070,   52,   64, 9212, 5452, 7306, 7921,\n",
    "       7492, 2669, 5563, 2566, 2734, 6740, 3022, 2353, 3711, 7200,  163,\n",
    "         96, 2946, 1874,  481, 1966, 5134, 4311, 7726, 1715, 6812, 6447,\n",
    "       3899, 7066,  530, 9615, 9076, 2776, 5610, 9674, 1262, 5669, 6497,\n",
    "       4537, 7370, 5999, 8686, 2433, 6037, 7747, 6248, 2638, 3390, 3334,\n",
    "       8589, 7611,  505, 4805, 3806, 5500, 2215, 4521, 1105, 5536, 3346,\n",
    "       2010, 6562,  829, 3633, 7023, 2947, 5161, 9390, 4056,  970, 5043,\n",
    "       6518, 9166, 4916,  128, 8524, 9126, 2187, 6132, 4628, 3494, 5595,\n",
    "       8966])[:10]"
   ]
  },
  {
   "cell_type": "code",
   "execution_count": null,
   "metadata": {},
   "outputs": [],
   "source": [
    "### PCA features\n",
    "fl = '/scratch/mohsin/final_features_pca/'\n",
    "image_names1 = os.listdir(fl)\n",
    "image_names1.sort()\n",
    "\n",
    "x = []\n",
    "x2 = []\n",
    "for i in image_names1:\n",
    "    x.append(np.load(fl+str(i))[0,:])\n",
    "    \n",
    "x = np.array(x)\n",
    "\n",
    "for i in ids:\n",
    "    x2.append(x[i,:])\n",
    "    \n",
    "x2 = np.array(x2)\n",
    "\n",
    "print(x.shape)\n",
    "print(x2.shape)"
   ]
  },
  {
   "cell_type": "code",
   "execution_count": null,
   "metadata": {},
   "outputs": [],
   "source": [
    "### Computing KNN for larger ones\n",
    "fl = '/scratch/mohsin/final_features/'\n",
    "image_names1 = os.listdir(fl)\n",
    "image_names1.sort()\n",
    "\n",
    "dists2 = []\n",
    "for i in range(10):\n",
    "    print(i)\n",
    "    ls = []\n",
    "    x1 = np.load(fl+image_names1[ids[i]])\n",
    "    x2 = np.array(x1)\n",
    "    for j in range(10000):\n",
    "        x2[:] = np.load(fl+image_names1[j])\n",
    "        fact = -1\n",
    "        # fact = 1 for top K\n",
    "        ls.append(fact * np.sum((x1-x2)**2))\n",
    "    ls2 = np.argsort(ls)[:10]\n",
    "    dists2.append(ls2)"
   ]
  },
  {
   "cell_type": "code",
   "execution_count": null,
   "metadata": {},
   "outputs": [],
   "source": [
    "from skimage import io\n",
    "from skimage.transform import resize\n",
    "\n",
    "finim = np.zeros((20000,10000,3),dtype='uint8')\n",
    "\n",
    "fl = '/scratch/bam_subset/'\n",
    "th = 2\n",
    "\n",
    "dists2 = np.array(dists2)\n",
    "\n",
    "plt.figure(figsize=(50*2,50*2))\n",
    "for i in range(0,10):\n",
    "    \n",
    "    im1 = io.imread(fl+(image_names1[ids[i]].strip('.npy')))\n",
    "    finim[2000*i+500-th:2000*i+1000+th,500-th:1000+th,:] = 255\n",
    "    finim[2000*i+500   :2000*i+1000   ,500   :1000   ,:] = np.uint8(255*resize(im1, (500,500), order=0))\n",
    "    \n",
    "    for j in range(9):\n",
    "        im2 = io.imread(fl+(image_names1[dists2[i,j]]).strip('.npy'))\n",
    "        print(im2.shape)\n",
    "        if len(im2.shape) <= 2:\n",
    "            im2 = np.tile(im2[:,:,np.newaxis], (1,1,3))\n",
    "        finim[2000*i+500-th:2000*i+1000+th,1000*(j+1)-th+500:1000*(j+2)+th,:] = 255\n",
    "        finim[2000*i+500:2000*i+1000,1000*(j+1)+500:1000*(j+2),:] = np.uint8(255*resize(im2,(500,500),order=0))\n",
    "        \n",
    "#finim = finim[500:,500:,:]        \n",
    "    \n",
    "io.imshow(finim)"
   ]
  },
  {
   "cell_type": "code",
   "execution_count": null,
   "metadata": {
    "slideshow": {
     "slide_type": "slide"
    }
   },
   "outputs": [],
   "source": [
    "dists = compute_distances(x2, x)                               \n",
    "print (\"DISTS SHAPE\", dists.shape)"
   ]
  },
  {
   "cell_type": "code",
   "execution_count": null,
   "metadata": {},
   "outputs": [],
   "source": [
    "k = 10\n",
    "knns = get_knn(dists, k)                                             \n",
    "print (\"KNNs SHAPE\", knns.shape)"
   ]
  },
  {
   "cell_type": "code",
   "execution_count": null,
   "metadata": {},
   "outputs": [],
   "source": [
    "from skimage import io\n",
    "from skimage.transform import resize\n",
    "\n",
    "finim = np.zeros((20000,10000,3),dtype='uint8')\n",
    "\n",
    "fl = '/scratch/bam_subset/'\n",
    "th = 2\n",
    "\n",
    "dists2 = np.array(dists2)\n",
    "\n",
    "plt.figure(figsize=(50*2,50*2))\n",
    "for i in range(0,10):\n",
    "    \n",
    "    im1 = io.imread(fl+(image_names1[ids[i]].strip('.npy')))\n",
    "    finim[2000*i+500-th:2000*i+1000+th,500-th:1000+th,:] = 255\n",
    "    finim[2000*i+500   :2000*i+1000   ,500   :1000   ,:] = np.uint8(255*resize(im1, (500,500), order=0))\n",
    "    \n",
    "    for j in range(9):\n",
    "        im2 = io.imread(fl+(image_names1[dists2[i,j]]).strip('.npy'))\n",
    "        print(im2.shape)\n",
    "        if len(im2.shape) <= 2:\n",
    "            im2 = np.tile(im2[:,:,np.newaxis], (1,1,3))\n",
    "        finim[2000*i+500-th:2000*i+1000+th,1000*(j+1)-th+500:1000*(j+2)+th,:] = 255\n",
    "        finim[2000*i+500:2000*i+1000,1000*(j+1)+500:1000*(j+2),:] = np.uint8(255*resize(im2,(500,500),order=0))\n",
    "        \n",
    "#finim = finim[500:,500:,:]        \n",
    "    \n",
    "io.imshow(finim)\n",
    "    "
   ]
  },
  {
   "cell_type": "code",
   "execution_count": null,
   "metadata": {},
   "outputs": [],
   "source": [
    "for i in range(0,10):\n",
    "    \n",
    "    im1 = io.imread(fl+(image_names1[ids[i]].strip('.npy')))\n",
    "    io.imshow(im1)\n",
    "    finim[2000*i+1500-th:2000*i+2000+th,500-th:1000+th,:] = 255\n",
    "    finim[2000*i+1500:2000*i+2000,500:1000,:] = np.uint8(255*resize(im1, (500,500), order=0))\n",
    "    \n",
    "    for j in range(9):\n",
    "        im2 = io.imread(fl+(image_names1[knns[i,j]]).strip('.npy'))\n",
    "        print(im2.shape)\n",
    "        if len(im2.shape) <= 2:\n",
    "            im2 = np.tile(im2[:,:,np.newaxis], (1,1,3))\n",
    "        finim[2000*i+1500-th:2000*i+2000+th,1000*(j+1)-th+500:1000*(j+2)+th,:] = 255\n",
    "        finim[2000*i+1500:2000*i+2000,1000*(j+1)+500:1000*(j+2),:] = np.uint8(255*resize(im2,(500,500),order=0))\n",
    "        \n",
    "#finim = finim[500:,500:,:]        \n",
    "    \n",
    "io.imshow(finim)\n",
    "    "
   ]
  },
  {
   "cell_type": "code",
   "execution_count": null,
   "metadata": {},
   "outputs": [],
   "source": [
    "plt.figure(figsize=(75*2,75*2))\n",
    "io.imshow(finim)\n",
    "plt.savefig('fin_comp2.png')\n",
    "plt.show()"
   ]
  },
  {
   "cell_type": "code",
   "execution_count": null,
   "metadata": {
    "scrolled": true
   },
   "outputs": [],
   "source": [
    "# We show a few examples of training images from each class.\n",
    "classes = range(100)\n",
    "#classes = np.random.choice(classes, 5, replace=False)\n",
    "num_classes = len(classes)\n",
    "samples_per_class = k\n",
    "plt.figure(figsize=(50*2,50*2))\n",
    "images_content = []\n",
    "\n",
    "for y, cls in enumerate(classes):\n",
    "    images = []\n",
    "    gs = []\n",
    "    for i in range(knns[cls].shape[0]):\n",
    "        name = image_names1[knns[cls,i]].strip('.npy')\n",
    "        im = cv2.imread('/scratch/bam_subset/'+name)\n",
    "        im = cv2.cvtColor(im, cv2.COLOR_BGR2RGB)\n",
    "        im = cv2.resize(im, (128,128), interpolation = cv2.INTER_AREA)\n",
    "        images.append(im)\n",
    "          \n",
    "    #Adding the first image\n",
    "   \n",
    "    name = image_names1[ids[cls]].strip('.npy')\n",
    "    im = cv2.imread('/scratch/bam_subset/'+name)\n",
    "    im = cv2.cvtColor(im, cv2.COLOR_BGR2RGB)\n",
    "    im = cv2.resize(im, (128,128), interpolation = cv2.INTER_AREA)\n",
    "    if not np.array_equal(im, images[0]):\n",
    "        images[1:] = images[0:len(images)-1]\n",
    "        images[0] = im\n",
    "        \n",
    "    idxs = range(len(images))\n",
    "    images_content.append(images)\n",
    "    \n",
    "    for i, idx in enumerate(idxs):\n",
    "        plt_idx = y * samples_per_class + i + 1\n",
    "        ax = plt.subplot(num_classes, samples_per_class, plt_idx)\n",
    "        ax.imshow(images[idx].astype('uint8'))\n",
    "        ax.axis('off')\n",
    "        if i == 0:\n",
    "            plt.title(cls)\n",
    "plt.savefig('img.png')            \n",
    "plt.show()"
   ]
  },
  {
   "cell_type": "code",
   "execution_count": null,
   "metadata": {},
   "outputs": [],
   "source": [
    "for i in range(len(images_style)):\n",
    "    plt.figure(figsize=(50*2,50*2))\n",
    "    plt.subplots_adjust(bottom=0.3, top=0.5, hspace=0)\n",
    "    \n",
    "    for j in range(k):\n",
    "        #plt_idx = i * num_classes + y + 1\n",
    "        plt_idx = j + 1\n",
    "        #plt.subplot(samples_per_class, num_classes, plt_idx)\n",
    "        ax = plt.subplot(2, k, plt_idx)\n",
    "        #ax.title.set_text(gs[idx])\n",
    "        ax.imshow(images_style[i][j].astype('uint8'))\n",
    "        ax.axis('off')\n",
    "        #plt.axis('off')\n",
    "    for j in range(k):\n",
    "        #plt_idx = i * num_classes + y + 1\n",
    "        plt_idx = k*1 + j + 1\n",
    "        #plt.subplot(samples_per_class, num_classes, plt_idx)\n",
    "        ax = plt.subplot(2, k, plt_idx)\n",
    "        #ax.title.set_text(gs[idx])\n",
    "        ax.imshow(images_content[i][j].astype('uint8'))\n",
    "        ax.axis('off')\n",
    "        #plt.axis('off')\n",
    "    nms = './results/'+'style_cont'+str(i)+'.png'\n",
    "    plt.savefig(nms)\n",
    "    plt.show()"
   ]
  },
  {
   "cell_type": "code",
   "execution_count": null,
   "metadata": {},
   "outputs": [],
   "source": [
    "for y, cls in enumerate(classes):\n",
    "    plots = []\n",
    "    for i in range(knns[cls].shape[0]):\n",
    "        name = dict_train[knns[cls,i]]\n",
    "        label = labels_dict[name]\n",
    "        genre = \"\"\n",
    "        for ix in range(label.shape[0]):\n",
    "            if label[ix]==1.0:\n",
    "                genre = genre+genres[ix]+\" \"\n",
    "        plots.append((dict_plots[name], name, genre))\n",
    "    \n",
    "    for i, idx in enumerate(plots):\n",
    "\n",
    "        if i == 0:\n",
    "            print \"Query Plot : \", idx[0], \"Genre =\", idx[2]\n",
    "        else:\n",
    "            print \"Neighbour Plot : \", i, idx[0], \"Genre =\", idx[2]\n",
    "    print \"\\n\\n\""
   ]
  },
  {
   "cell_type": "code",
   "execution_count": null,
   "metadata": {},
   "outputs": [],
   "source": []
  }
 ],
 "metadata": {
  "celltoolbar": "Slideshow",
  "kernelspec": {
   "display_name": "Python 3",
   "language": "python",
   "name": "python3"
  },
  "language_info": {
   "codemirror_mode": {
    "name": "ipython",
    "version": 3
   },
   "file_extension": ".py",
   "mimetype": "text/x-python",
   "name": "python",
   "nbconvert_exporter": "python",
   "pygments_lexer": "ipython3",
   "version": "3.5.2"
  }
 },
 "nbformat": 4,
 "nbformat_minor": 2
}

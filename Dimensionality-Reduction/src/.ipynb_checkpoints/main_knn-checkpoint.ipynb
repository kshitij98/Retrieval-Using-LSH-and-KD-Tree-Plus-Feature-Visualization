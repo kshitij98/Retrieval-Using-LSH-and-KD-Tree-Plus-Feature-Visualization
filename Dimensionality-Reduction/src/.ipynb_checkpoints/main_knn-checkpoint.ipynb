{
 "cells": [
  {
   "cell_type": "code",
   "execution_count": 1,
   "metadata": {},
   "outputs": [
    {
     "name": "stdout",
     "output_type": "stream",
     "text": [
      "/home/kshitij98/style/Dimensionality-Reduction/src/venv/bin/python3\n",
      "3.5.2 (default, Nov 23 2017, 16:37:01) \n",
      "[GCC 5.4.0 20160609]\n",
      "sys.version_info(major=3, minor=5, micro=2, releaselevel='final', serial=0)\n"
     ]
    }
   ],
   "source": [
    "import sys\n",
    "print(sys.executable)\n",
    "print(sys.version)\n",
    "print(sys.version_info)"
   ]
  },
  {
   "cell_type": "code",
   "execution_count": 2,
   "metadata": {},
   "outputs": [],
   "source": [
    "import random\n",
    "import numpy as np                                              \n",
    "                                                            \n",
    "import sys\n",
    "#print(sys.path)  \n",
    "#sys.path=sys.path[:1]+sys.path[2:]\n",
    "#print(sys.path)   \n",
    "import matplotlib.pyplot as plt                                         \n",
    "#matplotlit.use('Agg')                                                  \n",
    "import cv2                      \n",
    "import time                                                             \n",
    "                       \n",
    "                                               \n",
    "import os                                                               \n",
    "import test_knn\n",
    "from test_knn import my_func, compute_distances, get_knn\n",
    "\n",
    "# This is a bit of magic to make matplotlib figures appear inline in the notebook\n",
    "# rather than in a new window.\n",
    "%matplotlib inline\n",
    "plt.rcParams['figure.figsize'] = (200.0, 160.0) # set default size of plots\n",
    "plt.rcParams['image.interpolation'] = 'nearest'\n",
    "plt.rcParams['image.cmap'] = 'gray'\n",
    "\n",
    "# Some more magic so that the notebook will reload external python modules;\n",
    "# see http://stackoverflow.com/questions/1907993/autoreload-of-modules-in-ipython\n",
    "%load_ext autoreload\n",
    "%autoreload 2"
   ]
  },
  {
   "cell_type": "code",
   "execution_count": 3,
   "metadata": {},
   "outputs": [],
   "source": [
    "# x, x2, names_dict = my_func()\n",
    "import pickle\n",
    "#data_structure={'x':x,'x2':x2,'names_dict':names_dict}\n"
   ]
  },
  {
   "cell_type": "code",
   "execution_count": 4,
   "metadata": {},
   "outputs": [],
   "source": [
    "def normalize(x, mean, scale):\n",
    "    return np.divide((x - mean), np.absolute(x - mean) ** 0.8)"
   ]
  },
  {
   "cell_type": "code",
   "execution_count": null,
   "metadata": {},
   "outputs": [],
   "source": [
    "### PCA features\n",
    "fl = '/scratch/mohsin/final_features2_pca/'\n",
    "image_names1 = os.listdir(fl)\n",
    "image_names1.sort()\n",
    "numOfImages = len(image_names1)\n",
    "\n",
    "normalizationPath = '/home/kshitij98/style/final_features2_pca/'\n",
    "mean = np.load(normalizationPath + 'mean.npy')\n",
    "# scale = np.load(normalizationPath + 'scale.npy')\n",
    "\n",
    "x = []\n",
    "x2 = []\n",
    "for i in image_names1: \n",
    "    features = np.load(fl+str(i))[0,:]\n",
    "    features = normalize(features, mean, scale)\n",
    "    x.append(features)\n",
    "#     print(x)\n",
    "    \n",
    "x = np.array(x)\n",
    "\n",
    "for i in ids:\n",
    "    x2.append(x[i,:])\n",
    "    \n",
    "x2 = np.array(x2)\n",
    "\n",
    "print(x.shape)\n",
    "print(x2.shape)"
   ]
  },
  {
   "cell_type": "code",
   "execution_count": 5,
   "metadata": {},
   "outputs": [],
   "source": [
    "# Generate Dummy data\n",
    "import random\n",
    "import time"
   ]
  },
  {
   "cell_type": "code",
   "execution_count": 6,
   "metadata": {},
   "outputs": [
    {
     "name": "stdout",
     "output_type": "stream",
     "text": [
      "(100000, 1000)\n",
      "Elapsed =  78.33672189712524\n"
     ]
    }
   ],
   "source": [
    "begin = time.time()\n",
    "# print(begin)\n",
    "N = 100000\n",
    "K = 1000\n",
    "X = []\n",
    "for i in range(N):\n",
    "    f = np.arange(K)\n",
    "    random.shuffle(f)\n",
    "    X.append(f)\n",
    "X = np.asarray(X)\n",
    "\n",
    "print(X.shape)\n",
    "print(\"Elapsed = \", time.time() - begin)"
   ]
  },
  {
   "cell_type": "code",
   "execution_count": 7,
   "metadata": {},
   "outputs": [],
   "source": [
    "k = 15\n",
    "n = 1000\n",
    "sources = []\n",
    "t = time.time()\n",
    "for i in range(n):\n",
    "    source = X[i]\n",
    "    sources.append(source)\n",
    "#     print(sources)\n",
    "\n",
    "sources = np.array(sources)"
   ]
  },
  {
   "cell_type": "code",
   "execution_count": 8,
   "metadata": {},
   "outputs": [],
   "source": [
    "import torch\n",
    "\n",
    "\n",
    "def pdist(sample_1, sample_2, norm=2, eps=1e-5):\n",
    "    r\"\"\"Compute the matrix of all squared pairwise distances.\n",
    "    Arguments\n",
    "    ---------\n",
    "    sample_1 : torch.Tensor or Variable\n",
    "        The first sample, should be of shape ``(n_1, d)``.\n",
    "    sample_2 : torch.Tensor or Variable\n",
    "        The second sample, should be of shape ``(n_2, d)``.\n",
    "    norm : float\n",
    "        The l_p norm to be used.\n",
    "    Returns\n",
    "    -------\n",
    "    torch.Tensor or Variable\n",
    "        Matrix of shape (n_1, n_2). The [i, j]-th entry is equal to\n",
    "        ``|| sample_1[i, :] - sample_2[j, :] ||_p``.\"\"\"\n",
    "    n_1, n_2 = sample_1.size(0), sample_2.size(0)\n",
    "    norm = float(norm)\n",
    "    if norm == 2.:\n",
    "        norms_1 = torch.sum(sample_1**2, dim=1, keepdim=True)\n",
    "        norms_2 = torch.sum(sample_2**2, dim=1, keepdim=True)\n",
    "        norms = (norms_1.expand(n_1, n_2) +\n",
    "                 norms_2.transpose(0, 1).expand(n_1, n_2))\n",
    "        distances_squared = norms - 2 * sample_1.mm(sample_2.t())\n",
    "        return eps + torch.abs(distances_squared)\n",
    "    else:\n",
    "        dim = sample_1.size(1)\n",
    "        expanded_1 = sample_1.unsqueeze(1).expand(n_1, n_2, dim)\n",
    "        expanded_2 = sample_2.unsqueeze(0).expand(n_1, n_2, dim)\n",
    "        differences = torch.abs(expanded_1 - expanded_2) ** norm\n",
    "        inner = torch.sum(differences, dim=2, keepdim=False)\n",
    "        return (eps + inner) ** (1. / norm)"
   ]
  },
  {
   "cell_type": "code",
   "execution_count": 9,
   "metadata": {},
   "outputs": [
    {
     "name": "stdout",
     "output_type": "stream",
     "text": [
      "torch.Size([1000, 100000])\n",
      "tensor([[      832., 165667232., 166497952.,  ..., 172202112., 164203456.,\n",
      "         169532032.],\n",
      "        [165667232.,       704., 166655584.,  ..., 162843456., 173428480.,\n",
      "         171402912.],\n",
      "        [166497952., 166655584.,       768.,  ..., 174341408., 157511616.,\n",
      "         164450624.],\n",
      "        ...,\n",
      "        [171863424., 171340800., 174989056.,  ..., 166958272., 170758112.,\n",
      "         176696288.],\n",
      "        [167697920., 171136000., 163773408.,  ..., 168538080., 160992832.,\n",
      "         162061408.],\n",
      "        [170031584., 169782784., 170623360.,  ..., 167989984., 163120480.,\n",
      "         164718656.]])\n"
     ]
    }
   ],
   "source": [
    "A = torch.from_numpy(sources.astype(np.float32))\n",
    "B = torch.from_numpy(X.astype(np.float32))\n",
    "d = pdist(A, B)\n",
    "print(d.shape)\n",
    "print(d)"
   ]
  },
  {
   "cell_type": "code",
   "execution_count": 11,
   "metadata": {},
   "outputs": [
    {
     "data": {
      "text/plain": [
       "0"
      ]
     },
     "execution_count": 11,
     "metadata": {},
     "output_type": "execute_result"
    }
   ],
   "source": [
    "torch.cuda.current_device()"
   ]
  },
  {
   "cell_type": "code",
   "execution_count": 12,
   "metadata": {},
   "outputs": [
    {
     "data": {
      "text/plain": [
       "<torch.cuda.device at 0x7faee86ea400>"
      ]
     },
     "execution_count": 12,
     "metadata": {},
     "output_type": "execute_result"
    }
   ],
   "source": [
    "torch.cuda.device(0)"
   ]
  },
  {
   "cell_type": "code",
   "execution_count": 13,
   "metadata": {},
   "outputs": [
    {
     "data": {
      "text/plain": [
       "4"
      ]
     },
     "execution_count": 13,
     "metadata": {},
     "output_type": "execute_result"
    }
   ],
   "source": [
    "torch.cuda.device_count()"
   ]
  },
  {
   "cell_type": "code",
   "execution_count": 14,
   "metadata": {},
   "outputs": [
    {
     "data": {
      "text/plain": [
       "'GeForce GTX 1080 Ti'"
      ]
     },
     "execution_count": 14,
     "metadata": {},
     "output_type": "execute_result"
    }
   ],
   "source": [
    "torch.cuda.get_device_name(0)"
   ]
  },
  {
   "cell_type": "code",
   "execution_count": 10,
   "metadata": {},
   "outputs": [
    {
     "name": "stdout",
     "output_type": "stream",
     "text": [
      "0.0001704692840576172\n",
      "(10, 1000)\n",
      "9.110016584396362\n",
      "(10, 100000)\n",
      "[[        0 165667226 166497842 ... 172201966 164203482 169531986]\n",
      " [165667226         0 166655512 ... 162843464 173428506 171402874]\n",
      " [166497842 166655512         0 ... 174341276 157511512 164450610]\n",
      " ...\n",
      " [162149756 163019090 165736398 ... 163394770 168988478 167304512]\n",
      " [158387930 166945886 160067126 ... 170465690 172293644 164623708]\n",
      " [178709700 171730162 156668864 ... 162654228 164727094 158684354]]\n"
     ]
    }
   ],
   "source": [
    "k = 15\n",
    "n = 10\n",
    "sources = []\n",
    "t = time.time()\n",
    "for i in range(n):\n",
    "    source = X[i]\n",
    "    sources.append(source)\n",
    "#     print(sources)\n",
    "\n",
    "sources = np.array(sources)\n",
    "\n",
    "print(time.time() - t)\n",
    "print(sources.shape)\n",
    "t = time.time()\n",
    "distances = np.einsum('ijk->ij',(sources[:,None,:] - X)**2)\n",
    "print(time.time() - t)\n",
    "print(distances.shape)\n",
    "print(distances)"
   ]
  },
  {
   "cell_type": "code",
   "execution_count": 52,
   "metadata": {},
   "outputs": [
    {
     "name": "stdout",
     "output_type": "stream",
     "text": [
      "Tensor(\"strided_slice:0\", shape=(100000,), dtype=float32)\n"
     ]
    }
   ],
   "source": []
  }
 ],
 "metadata": {
  "celltoolbar": "Slideshow",
  "kernelspec": {
   "display_name": "Python 3",
   "language": "python",
   "name": "python3"
  },
  "language_info": {
   "codemirror_mode": {
    "name": "ipython",
    "version": 3
   },
   "file_extension": ".py",
   "mimetype": "text/x-python",
   "name": "python",
   "nbconvert_exporter": "python",
   "pygments_lexer": "ipython3",
   "version": "3.5.2"
  }
 },
 "nbformat": 4,
 "nbformat_minor": 2
}
